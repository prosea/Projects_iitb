{
  "nbformat": 4,
  "nbformat_minor": 0,
  "metadata": {
    "colab": {
      "name": "Sorting_techniques.ipynb",
      "provenance": [],
      "collapsed_sections": [],
      "authorship_tag": "ABX9TyOE29y2CDCr+P+fFPI72UJO",
      "include_colab_link": true
    },
    "kernelspec": {
      "name": "python3",
      "display_name": "Python 3"
    }
  },
  "cells": [
    {
      "cell_type": "markdown",
      "metadata": {
        "id": "view-in-github",
        "colab_type": "text"
      },
      "source": [
        "<a href=\"https://colab.research.google.com/github/prosea/Projects_iitb/blob/master/Sorting_techniques.ipynb\" target=\"_parent\"><img src=\"https://colab.research.google.com/assets/colab-badge.svg\" alt=\"Open In Colab\"/></a>"
      ]
    },
    {
      "cell_type": "markdown",
      "metadata": {
        "id": "lEXxASWcTqJi",
        "colab_type": "text"
      },
      "source": [
        "\n",
        "\n",
        "Sorting_techniques\n",
        "\n"
      ]
    },
    {
      "cell_type": "code",
      "metadata": {
        "colab_type": "code",
        "outputId": "eaf2913b-6ce4-45e9-eb1f-d10d0e165bbf",
        "id": "AEFMbDSgWT_9",
        "colab": {
          "base_uri": "https://localhost:8080/",
          "height": 50
        }
      },
      "source": [
        "#bubble_sort\n",
        "import time as time\n",
        "def bubble_sort(a):\n",
        "  tik=time.clock()\n",
        "  \"In every recursion the last element is being sorted\"\n",
        "  n=len(a)\n",
        "  for i in range(0,n):\n",
        "    for j in range(0,n-i-1):\n",
        "      if a[j]>a[j+1]:\n",
        "        temp=a[j+1];a[j+1]=a[j];a[j]=temp\n",
        "  tok=time.clock()\n",
        "  print(\"The time for computation is\",tok-tik)\n",
        "  return a\n",
        "\n",
        "print(bubble_sort([1,64,7,8,5])) \n",
        "\n"
      ],
      "execution_count": 5,
      "outputs": [
        {
          "output_type": "stream",
          "text": [
            "The time for computation is 1.1999999999900979e-05\n",
            "[1, 5, 7, 8, 64]\n"
          ],
          "name": "stdout"
        }
      ]
    },
    {
      "cell_type": "code",
      "metadata": {
        "id": "xT6mt0qofyqD",
        "colab_type": "code",
        "colab": {
          "base_uri": "https://localhost:8080/",
          "height": 50
        },
        "outputId": "7162afb5-8054-47a5-bb07-b20116325b1c"
      },
      "source": [
        "import time as t\n",
        "def insertion_sort(arr): \n",
        "  tik=t.clock()\n",
        "  for i in range(1, len(arr)): \n",
        "    key = arr[i]\n",
        "    j = i-1 #Left_hand_side_sorted_part and Right hand side unsorted part ie i-1 position is left https://www.youtube.com/watch?v=i-SKeOcBwko\n",
        "    while j >=0 and key < arr[j] : #shift all numbers in the sorted part which is greater than ket towards right to create a hole for insertion\n",
        "      arr[j+1] = arr[j] \n",
        "      j -= 1\n",
        "    arr[j+1] = key \n",
        "\n",
        "  tok=t.clock()\n",
        "  print(\"The time for computation is\",tok-tik)\n",
        "    \n",
        "    \n",
        "  return arr\n",
        "print(insertion_sort([1,64,7,8,5]))\n",
        "\n",
        "  \n",
        "  \n",
        "\n"
      ],
      "execution_count": 2,
      "outputs": [
        {
          "output_type": "stream",
          "text": [
            "The time for computation is 1.0999999999983245e-05\n",
            "[1, 5, 7, 8, 64]\n"
          ],
          "name": "stdout"
        }
      ]
    },
    {
      "cell_type": "markdown",
      "metadata": {
        "id": "g5DVZLu_kb4Z",
        "colab_type": "text"
      },
      "source": [
        ""
      ]
    },
    {
      "cell_type": "code",
      "metadata": {
        "id": "JQ8twfX9eJWZ",
        "colab_type": "code",
        "colab": {}
      },
      "source": [
        ""
      ],
      "execution_count": 0,
      "outputs": []
    }
  ]
}